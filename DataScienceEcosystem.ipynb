{
 "cells": [
  {
   "cell_type": "markdown",
   "id": "fd3eb686",
   "metadata": {},
   "source": [
    "## Exercise 2: Create markdown cell with title of the notebook"
   ]
  },
  {
   "cell_type": "markdown",
   "id": "c623bef2",
   "metadata": {},
   "source": [
    "# Data Science Tools and Ecosystem"
   ]
  },
  {
   "cell_type": "markdown",
   "id": "b783e6c0",
   "metadata": {},
   "source": [
    "## Exercise 3: Create markdown cell for an introduction"
   ]
  },
  {
   "cell_type": "markdown",
   "id": "29921434",
   "metadata": {},
   "source": [
    "In this notebook, Data Science Tools and Ecosystm are summerized."
   ]
  },
  {
   "cell_type": "markdown",
   "id": "21f21662",
   "metadata": {},
   "source": [
    "## Exercise 10: Insert a markdown cell to list Objectives"
   ]
  },
  {
   "cell_type": "markdown",
   "id": "a2526327",
   "metadata": {},
   "source": [
    "**Objectives:**\n",
    "- Popular languages used for Data Science\n",
    "- Popular libraries used in Data Science\n",
    "- Popular Tools for Data Science\n",
    "- Arithmetic Expressions in Data Science"
   ]
  },
  {
   "cell_type": "markdown",
   "id": "d847e5c6",
   "metadata": {},
   "source": [
    "## Exercise 11: Create markdown cell to indicate the Author's name"
   ]
  },
  {
   "cell_type": "markdown",
   "id": "69121ebb",
   "metadata": {},
   "source": [
    "## Author\n",
    "Tadesse Abateneh Walelign"
   ]
  },
  {
   "cell_type": "markdown",
   "id": "6b8736f7",
   "metadata": {},
   "source": [
    "## Exercise 4: Create markdown cell to list data science languages"
   ]
  },
  {
   "cell_type": "markdown",
   "id": "f903d3b7",
   "metadata": {},
   "source": [
    "Some of the popular languages that Data Scienctists use are:\n",
    "1. Python\n",
    "2. R\n",
    "3. SQL"
   ]
  },
  {
   "cell_type": "markdown",
   "id": "5971d086",
   "metadata": {},
   "source": [
    "## Exercise 5: Create markdown cell to list data science libraries"
   ]
  },
  {
   "cell_type": "markdown",
   "id": "7b49dfa1",
   "metadata": {},
   "source": [
    "Some of the commonly used libraries used by Data Scienctists include:\n",
    "1. Numpy\n",
    "2. Pandas\n",
    "3. Matplotlib and Seaborn\n",
    "4. Scikit-learn"
   ]
  },
  {
   "cell_type": "markdown",
   "id": "60cedec9",
   "metadata": {},
   "source": [
    "## Exercise 6: Create markdown cell with a table of Data Science tools"
   ]
  },
  {
   "cell_type": "markdown",
   "id": "ab4ed2e8",
   "metadata": {},
   "source": [
    "| Data Science Tools   |\n",
    "| -------------------- |\n",
    "| Jupyter Notebooks    |\n",
    "| RStudio              |\n",
    "| VS Code (Visual Studio Code) |\n"
   ]
  },
  {
   "cell_type": "markdown",
   "id": "6eae2ae2",
   "metadata": {},
   "source": [
    "## Exercise 7: Create markdown cell introducing arithmetic expression examples"
   ]
  },
  {
   "cell_type": "markdown",
   "id": "c16da286",
   "metadata": {},
   "source": [
    "### Below are a few examples of evaluating arithmetic expressions in Python"
   ]
  },
  {
   "cell_type": "markdown",
   "id": "29dbca22",
   "metadata": {},
   "source": [
    "## Exercise 8: Create a code cell to multiply and add numbers"
   ]
  },
  {
   "cell_type": "code",
   "execution_count": 1,
   "id": "9ee618e4",
   "metadata": {},
   "outputs": [
    {
     "data": {
      "text/plain": [
       "17"
      ]
     },
     "execution_count": 1,
     "metadata": {},
     "output_type": "execute_result"
    }
   ],
   "source": [
    "# This is a simple arithmetic expression to multiply then add integers\n",
    "(3 * 4) + 5"
   ]
  },
  {
   "cell_type": "markdown",
   "id": "1f10f37d",
   "metadata": {},
   "source": [
    "## Exercise 9: Create a code cell to convert minute to hours"
   ]
  },
  {
   "cell_type": "code",
   "execution_count": 2,
   "id": "1494ca3c",
   "metadata": {},
   "outputs": [
    {
     "data": {
      "text/plain": [
       "3.3333333333333335"
      ]
     },
     "execution_count": 2,
     "metadata": {},
     "output_type": "execute_result"
    }
   ],
   "source": [
    "# This will convert 200 minutes to hours by dividing 60\n",
    "200 / 60"
   ]
  }
 ],
 "metadata": {
  "kernelspec": {
   "display_name": "Python 3 (ipykernel)",
   "language": "python",
   "name": "python3"
  },
  "language_info": {
   "codemirror_mode": {
    "name": "ipython",
    "version": 3
   },
   "file_extension": ".py",
   "mimetype": "text/x-python",
   "name": "python",
   "nbconvert_exporter": "python",
   "pygments_lexer": "ipython3",
   "version": "3.9.13"
  }
 },
 "nbformat": 4,
 "nbformat_minor": 5
}
